{
 "cells": [
  {
   "cell_type": "code",
   "execution_count": 1,
   "metadata": {},
   "outputs": [],
   "source": [
    "import glob \n",
    "import json \n",
    "import regex as re"
   ]
  },
  {
   "cell_type": "code",
   "execution_count": 2,
   "metadata": {},
   "outputs": [],
   "source": [
    "all_issue_files = glob.glob('all_issues/*.json')\n",
    "repo_map = {}\n",
    "for file in all_issue_files:\n",
    "    name = file.split('.')[-2].split('_')[-1]\n",
    "    issues = json.load(open(file, 'r'))\n",
    "    \n",
    "    all_map = {}\n",
    "    for issue in issues:\n",
    "        number = issue[\"number\"]\n",
    "        body = issue[\"body\"]\n",
    "        title = issue[\"title\"]\n",
    "        created = issue['created_at']\n",
    "        closed = issue['closed_at']\n",
    "\n",
    "        all_map[number] = [title, body, created, closed]\n",
    "\n",
    "    if(name not in repo_map):\n",
    "        repo_map[name] = all_map\n",
    "    else:\n",
    "        repo_map[name].update(all_map)"
   ]
  },
  {
   "cell_type": "code",
   "execution_count": 4,
   "metadata": {},
   "outputs": [
    {
     "name": "stdout",
     "output_type": "stream",
     "text": [
      "scikit-learn 22468\n",
      "ipython 12262\n",
      "pandas 46952\n",
      "ansible 77728\n",
      "159410\n"
     ]
    }
   ],
   "source": [
    "sum = 0\n",
    "for repo in repo_map:\n",
    "    if(repo == 'youtube-dl'):\n",
    "        continue\n",
    "    print(repo, len(repo_map[repo]))\n",
    "    sum+=len(repo_map[repo])\n",
    "print(sum)"
   ]
  },
  {
   "cell_type": "code",
   "execution_count": 120,
   "metadata": {},
   "outputs": [],
   "source": [
    "final_data = {}"
   ]
  },
  {
   "cell_type": "markdown",
   "metadata": {},
   "source": [
    "## Issues "
   ]
  },
  {
   "cell_type": "code",
   "execution_count": 121,
   "metadata": {},
   "outputs": [
    {
     "name": "stdout",
     "output_type": "stream",
     "text": [
      "ansible\n",
      "ipython\n",
      "pandas\n",
      "scikit-learn\n",
      "13428\n"
     ]
    }
   ],
   "source": [
    "relevant_files = glob.glob(\"misc/issues/*.jsonl\")\n",
    "sum = 0\n",
    "for file in relevant_files:\n",
    "    name = file.split('.')[-2].split('/')[-1]\n",
    "    if(name == 'youtube-dl'):\n",
    "        continue \n",
    "    print(name)\n",
    "    final_data[name] = {}\n",
    "    with open(file, 'r') as f:\n",
    "        for line in f:\n",
    "            issue_entry = json.loads(line)\n",
    "            issue_number = issue_entry['issue_number']\n",
    "            if(issue_entry['body']!=None):\n",
    "                final_data[name][issue_number] = issue_entry \n",
    "    sum+=len(final_data[name])\n",
    "print(sum)"
   ]
  },
  {
   "cell_type": "markdown",
   "metadata": {},
   "source": [
    "## PRs"
   ]
  },
  {
   "cell_type": "code",
   "execution_count": 122,
   "metadata": {},
   "outputs": [
    {
     "name": "stdout",
     "output_type": "stream",
     "text": [
      "ansible\n",
      "ipython\n",
      "pandas\n",
      "scikit-learn\n",
      "9425\n"
     ]
    }
   ],
   "source": [
    "relevant_files = glob.glob(\"misc/prs/*.jsonl\")\n",
    "sum = 0\n",
    "for file in relevant_files:\n",
    "    name = file.split('.')[-2].split('/')[-1]\n",
    "    if(name == 'youtube-dl'):\n",
    "        continue \n",
    "    print(name)\n",
    "    with open(file, 'r') as f:\n",
    "        for line in f:\n",
    "            issue_entry = json.loads(line)\n",
    "            sum+=len(issue_entry['linked_number'])\n",
    "            for i, issue_number in enumerate(issue_entry['linked_number']):\n",
    "                if(issue_number in final_data[name]):\n",
    "                    if('linked_issue_number' not in final_data[name][issue_number]):\n",
    "                        final_data[name][issue_number]['linked_pr_number'] = []\n",
    "                    final_data[name][issue_number]['linked_pr_number'].append(issue_number)\n",
    "                    final_data[name][issue_number]['commits'].extend(issue_entry['commits'])\n",
    "                elif issue_entry['body']!=None:\n",
    "                    final_data[name][issue_number] = {}\n",
    "                    final_data[name][issue_number]['issue_number'] = issue_number\n",
    "                    final_data[name][issue_number]['title'] = issue_entry['title']\n",
    "                    final_data[name][issue_number]['body'] = issue_entry['body']\n",
    "                    final_data[name][issue_number]['commits'] = issue_entry['commits']\n",
    "                    final_data[name][issue_number]['labels'] = issue_entry['labels']\n",
    "                    final_data[name][issue_number]['created_at'] = issue_entry['linked_created_at'][i]\n",
    "                    final_data[name][issue_number]['closed_at'] = issue_entry['linked_closed_at'][i]\n",
    "                    final_data[name][issue_number]['linked_pr_number'] = [issue_number]\n",
    "print(sum)\n"
   ]
  },
  {
   "cell_type": "code",
   "execution_count": 123,
   "metadata": {},
   "outputs": [
    {
     "name": "stdout",
     "output_type": "stream",
     "text": [
      "ansible 7166\n",
      "ipython 1881\n",
      "pandas 8190\n",
      "scikit-learn 1567\n",
      "18804\n"
     ]
    }
   ],
   "source": [
    "sum = 0\n",
    "for repo in final_data:\n",
    "    if(repo == 'youtube-dl'):\n",
    "        continue\n",
    "    print(repo, len(final_data[repo]))\n",
    "    sum+=len(final_data[repo])\n",
    "print(sum)"
   ]
  },
  {
   "cell_type": "markdown",
   "metadata": {},
   "source": [
    "## Only Python commits"
   ]
  },
  {
   "cell_type": "code",
   "execution_count": 124,
   "metadata": {},
   "outputs": [],
   "source": [
    "sum=0\n",
    "for repo in final_data:\n",
    "    og_files = 0\n",
    "    new_files = 0\n",
    "\n",
    "    og_issues = 0\n",
    "    new_issues = 0\n",
    "\n",
    "    issues_to_keep = {}\n",
    "    for issue_number in final_data[repo]:\n",
    "        issue = final_data[repo][issue_number]\n",
    "        commits = issue['commits']\n",
    "        commits_to_keep = []\n",
    "        for commit in commits:\n",
    "            files = commit[-1]\n",
    "            og_files+=len(files)\n",
    "            py_files = [f for f in files if f[-3:] == '.py']\n",
    "            new_files+=len(py_files)\n",
    "            if(len(py_files) > 0):\n",
    "                commit[-1] = py_files \n",
    "                commits_to_keep.append(commit)\n",
    "        if(len(commits_to_keep) > 0):\n",
    "            issue['commits'] = commits_to_keep\n",
    "            issues_to_keep[issue_number] = issue \n",
    "    final_data[repo] = issues_to_keep\n",
    "    sum+=len(issues_to_keep)"
   ]
  },
  {
   "cell_type": "code",
   "execution_count": 125,
   "metadata": {},
   "outputs": [
    {
     "data": {
      "text/plain": [
       "16100"
      ]
     },
     "execution_count": 125,
     "metadata": {},
     "output_type": "execute_result"
    }
   ],
   "source": [
    "sum"
   ]
  },
  {
   "cell_type": "markdown",
   "metadata": {},
   "source": [
    "## Only Bugs"
   ]
  },
  {
   "cell_type": "code",
   "execution_count": 126,
   "metadata": {},
   "outputs": [],
   "source": [
    "bug_issues = {}"
   ]
  },
  {
   "cell_type": "markdown",
   "metadata": {},
   "source": [
    "### Label"
   ]
  },
  {
   "cell_type": "code",
   "execution_count": 127,
   "metadata": {},
   "outputs": [
    {
     "name": "stdout",
     "output_type": "stream",
     "text": [
      "ansible 4232\n",
      "ipython 391\n",
      "pandas 2741\n",
      "scikit-learn 266\n",
      "7630\n"
     ]
    }
   ],
   "source": [
    "repowise_label = {}\n",
    "sum = 0\n",
    "for repo in final_data:\n",
    "    issues_with_bug_label = set() \n",
    "    all_labels = []\n",
    "    for issue in final_data[repo].values():\n",
    "        all_labels.extend(issue['labels'])\n",
    "        for label in issue['labels']:\n",
    "            if('bug' in label.lower()):\n",
    "                issues_with_bug_label.add(issue['issue_number'])\n",
    "                break\n",
    "    repowise_label[repo] = issues_with_bug_label\n",
    "    sum+=len(issues_with_bug_label)\n",
    "    print(repo, len(issues_with_bug_label))\n",
    "print(sum)"
   ]
  },
  {
   "cell_type": "markdown",
   "metadata": {},
   "source": [
    "### Title/body"
   ]
  },
  {
   "cell_type": "code",
   "execution_count": 128,
   "metadata": {},
   "outputs": [
    {
     "name": "stdout",
     "output_type": "stream",
     "text": [
      "ansible 4610\n",
      "ipython 503\n",
      "pandas 3181\n",
      "scikit-learn 492\n",
      "8786\n"
     ]
    }
   ],
   "source": [
    "search_pattern = r\"bug|does not work|doesn't work|fail|broken|not working|buggy|to reproduce\" \n",
    "repowise_text = {}\n",
    "sum = 0\n",
    "for repo in final_data:\n",
    "    issues_with_buggy_in_text = set()   \n",
    "    for issue in final_data[repo].values():    \n",
    "        if(re.search(search_pattern, issue[\"body\"].lower()+\" \"+issue[\"title\"].lower())):\n",
    "            issues_with_buggy_in_text.add(issue[\"issue_number\"])\n",
    "    repowise_text[repo] = issues_with_buggy_in_text\n",
    "    sum+=len(issues_with_buggy_in_text)\n",
    "    print(repo, len(issues_with_buggy_in_text))\n",
    "print(sum)"
   ]
  },
  {
   "cell_type": "code",
   "execution_count": 129,
   "metadata": {},
   "outputs": [],
   "source": [
    "titles_bodies = {'titles':[], 'bodies':[]}\n",
    "tb_list = []"
   ]
  },
  {
   "cell_type": "code",
   "execution_count": 130,
   "metadata": {},
   "outputs": [
    {
     "name": "stdout",
     "output_type": "stream",
     "text": [
      "ansible 4889\n",
      "ipython 727\n",
      "pandas 4328\n",
      "scikit-learn 606\n"
     ]
    }
   ],
   "source": [
    "sum = 0\n",
    "for repo in final_data:\n",
    "    merged = repowise_label[repo].union(repowise_text[repo])\n",
    "    print(repo, len(merged))\n",
    "    with open(f'bugs4py/{repo}.jsonl', 'w') as f:\n",
    "        for issue in final_data[repo].values():\n",
    "            if(issue['issue_number'] in merged):\n",
    "                sum+=1\n",
    "                tb_list.append((issue['title'], issue['body']))\n",
    "                source = []\n",
    "                commits = []\n",
    "                if(issue['issue_number'] in repowise_label[repo]):\n",
    "                    source.append('label')\n",
    "                if(issue['issue_number'] in repowise_text[repo]):\n",
    "                    source.append('regex')\n",
    "                for commit in issue['commits']:\n",
    "                    commit_d = {}\n",
    "                    commit_d['node_id'] = commit[0]\n",
    "                    commit_d['commit_message'] = commit[1]\n",
    "                    commit_d['commit_timestamp'] = commit[2]\n",
    "                    commit_d['files'] = commit[3]\n",
    "                    commits.append(commit_d)\n",
    "                issue['method'] = source \n",
    "                issue['commits'] = commits\n",
    "                json_record = json.dumps({**issue})\n",
    "                f.write(json_record+'\\n')"
   ]
  },
  {
   "cell_type": "code",
   "execution_count": 131,
   "metadata": {},
   "outputs": [
    {
     "data": {
      "text/plain": [
       "10550"
      ]
     },
     "execution_count": 131,
     "metadata": {},
     "output_type": "execute_result"
    }
   ],
   "source": [
    "sum"
   ]
  }
 ],
 "metadata": {
  "kernelspec": {
   "display_name": "Python 3.6.9 64-bit",
   "language": "python",
   "name": "python3"
  },
  "language_info": {
   "codemirror_mode": {
    "name": "ipython",
    "version": 3
   },
   "file_extension": ".py",
   "mimetype": "text/x-python",
   "name": "python",
   "nbconvert_exporter": "python",
   "pygments_lexer": "ipython3",
   "version": "3.6.9"
  },
  "orig_nbformat": 4,
  "vscode": {
   "interpreter": {
    "hash": "31f2aee4e71d21fbe5cf8b01ff0e069b9275f58929596ceb00d14d90e3e16cd6"
   }
  }
 },
 "nbformat": 4,
 "nbformat_minor": 2
}
