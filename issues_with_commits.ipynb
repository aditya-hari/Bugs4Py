{
  "cells": [
    {
      "cell_type": "code",
      "execution_count": null,
      "metadata": {
        "id": "ONKkkHFkPfPq"
      },
      "outputs": [],
      "source": [
        "import json \n",
        "import requests\n",
        "import regex as re\n",
        "\n",
        "from collections import defaultdict\n",
        "from tqdm.notebook import trange, tqdm"
      ]
    },
    {
      "cell_type": "markdown",
      "metadata": {
        "id": "TZB4FHFxurxg"
      },
      "source": [
        "## Issues"
      ]
    },
    {
      "cell_type": "code",
      "execution_count": null,
      "metadata": {
        "id": "jYda4nL9TuYI"
      },
      "outputs": [],
      "source": [
        "issues = json.load(open('<issue_json_path>', 'r'))\n",
        "non_prs = [issue for issue in issues if \"pull_request\" not in issue.keys()]\n",
        "prs = [issue for issue in issues if \"pull_request\" in issue.keys()]"
      ]
    },
    {
      "cell_type": "code",
      "execution_count": null,
      "metadata": {
        "id": "OE63s70obzAE"
      },
      "outputs": [],
      "source": [
        "issues_with_commits = defaultdict(lambda: defaultdict(lambda : {'body': None, 'commits': [], 'labels':[]}))\n",
        "exceptions = []"
      ]
    },
    {
      "cell_type": "code",
      "execution_count": null,
      "metadata": {
        "id": "uyVUlthbRauE"
      },
      "outputs": [],
      "source": [
        "headers = {'Authorization': 'token ' + '<token>'} "
      ]
    },
    {
      "cell_type": "code",
      "execution_count": null,
      "metadata": {
        "colab": {
          "base_uri": "https://localhost:8080/",
          "height": 49,
          "referenced_widgets": [
            "2475dd1ba5924fe59dfb524f09f77af0",
            "9e6495af03eb4d3a80f1c45e78fa903d",
            "f17cf69a94c24b579c4f4176756f9879",
            "5bf0d09d6b35463c96a29ed96ec4d02d",
            "91c75161180a470b81a09c058d32a80d",
            "b63b2fc346d84017aaf6ac9f65695383",
            "27a4170d400f4f0598d1871a149ff2f8",
            "6e20dbbf660f43588af9174793193ebe",
            "dea01884944c4d42b1d502772fb24923",
            "fdd304ccda34410a8ac4185263908f86",
            "da729b4d825442f4b366d54497f2e9d4"
          ]
        },
        "id": "sDC_HAH3jVyk",
        "outputId": "b8fa0ffc-17e3-435b-e7b2-d7ca4839a5de"
      },
      "outputs": [
        {
          "data": {
            "application/vnd.jupyter.widget-view+json": {
              "model_id": "2475dd1ba5924fe59dfb524f09f77af0",
              "version_major": 2,
              "version_minor": 0
            },
            "text/plain": [
              "  0%|          | 0/1188 [00:00<?, ?it/s]"
            ]
          },
          "metadata": {},
          "output_type": "display_data"
        }
      ],
      "source": [
        "pb = tqdm(range(len(non_prs)))\n",
        "for issue in non_prs:\n",
        "  pb.update(1)\n",
        "  if issue['timeline_url'] and issue['state_reason']!='not_planned':\n",
        "    number = issue['number']\n",
        "    labels = []\n",
        "    if('labels' in issue.keys()):\n",
        "      labels = [t['name'] for t in issue['labels']]\n",
        "    try:\n",
        "      timeline = requests.get(issue['timeline_url'], headers=headers).json()\n",
        "    except Exception:\n",
        "      exceptions.append(number)\n",
        "      print(number)\n",
        "      continue \n",
        "    has_commit = False \n",
        "    commits = []\n",
        "    for item in timeline:\n",
        "      if('commit_url' in item.keys() and item['commit_url']!=None):\n",
        "        has_commit = True \n",
        "        commit = requests.get(item['commit_url'], headers=headers).json()\n",
        "        if('files' in commit.keys()):\n",
        "          files = [f['filename'] for f in commit['files']]\n",
        "          commits.append([commit['node_id'], commit['commit']['message'], commit['commit']['committer']['date'], files])\n",
        "    if(has_commit):\n",
        "      issues_with_commits[number]['title'] = issue['title']\n",
        "      issues_with_commits[number]['body'] = issue['body']\n",
        "      issues_with_commits[number]['commits'] = commits\n",
        "      issues_with_commits[number]['labels'] = labels\n",
        "      issues_with_commits[number]['created_at'] = issue['created_at']\n",
        "      issues_with_commits[number]['closed_at'] = issue['closed_at']"
      ]
    },
    {
      "cell_type": "code",
      "execution_count": null,
      "metadata": {
        "id": "yUaWpGRqYj_K"
      },
      "outputs": [],
      "source": [
        "to_save = dict(issues_with_commits)\n",
        "with open(f'issues/issues.jsonl', 'w') as f:\n",
        "  for issue in to_save:\n",
        "    json_record = json.dumps({'issue_number': issue, **to_save[issue]})\n",
        "    f.write(json_record+'\\n')"
      ]
    },
    {
      "cell_type": "markdown",
      "metadata": {
        "id": "Jc88kEZKrmF0"
      },
      "source": [
        "# PRs"
      ]
    },
    {
      "cell_type": "code",
      "execution_count": null,
      "metadata": {
        "id": "tjevHAWzrldv"
      },
      "outputs": [],
      "source": [
        "all_map = {}\n",
        "for issue in issues:\n",
        "    number = issue[\"number\"]\n",
        "    body = issue[\"body\"]\n",
        "    title = issue[\"title\"]\n",
        "    created = issue['created_at']\n",
        "    closed = issue['closed_at']\n",
        "\n",
        "    all_map[number] = [title, body, created, closed]"
      ]
    },
    {
      "cell_type": "code",
      "execution_count": null,
      "metadata": {
        "id": "j9PbySI8rxLV"
      },
      "outputs": [],
      "source": [
        "prs_with_commits = defaultdict(lambda: defaultdict(lambda : {'body': None, 'commits': [], 'labels':[]}))\n",
        "exceptions = []"
      ]
    },
    {
      "cell_type": "code",
      "execution_count": null,
      "metadata": {
        "colab": {
          "base_uri": "https://localhost:8080/",
          "height": 414,
          "referenced_widgets": [
            "9684be3d56d946a090b017da953a975a",
            "33decc37fafe4413b5a90774c9284d04",
            "e321e512cdaf4cb89d6c6390daed0d43",
            "85712513646c43c1bea11875f27e3a85",
            "68bb433d76a3470896a2345413bf6ea5",
            "62d2b5bbaeef40d78c1d643323897426",
            "b3a865380247416ea6965bcbe651db1f",
            "976d2d90ac0146a89549a5fc7490722c",
            "7f51ed3c98b445f682afa29ba99bcc56",
            "f8f97c4cd4ae41dfab25ee82a7dc4f05",
            "20bcb4e564434e2c9a20e345c522a353"
          ]
        },
        "id": "Vr63Wpk9rzR_",
        "outputId": "5a2f53ac-8357-42e8-a225-861b3fd89765"
      },
      "outputs": [],
      "source": [
        "pb = tqdm(range(len(prs)))\n",
        "for pr in prs:\n",
        "  number = pr['number']\n",
        "  pb.update(1)\n",
        "  if(pr['title'][:3]=='DOC'):\n",
        "    continue\n",
        "  if(pr['pull_request']['merged_at']!=None):\n",
        "    if(not(pr[\"body\"])):\n",
        "      continue\n",
        "    linked_issues = re.findall(r'(?:fixes|closes) #(\\d+)', pr['body'].lower())\n",
        "    if(len(linked_issues)==0):\n",
        "      continue\n",
        "    created_ats = []\n",
        "    closed_ats = []\n",
        "    numbers = []\n",
        "    for issue in linked_issues:\n",
        "      issue = int(issue)\n",
        "      created_at = all_map[issue][2]\n",
        "      closed_at = all_map[issue][3]\n",
        "      numbers.append(int(issue))\n",
        "      created_ats.append(created_at)\n",
        "      closed_ats.append(closed_at)\n",
        "      labels = []\n",
        "      if('labels' in pr.keys()):\n",
        "        labels = [t['name'] for t in pr['labels']]\n",
        "\n",
        "      try:\n",
        "        timeline = requests.get(pr['timeline_url'], headers=headers).json()\n",
        "      except Exception:\n",
        "        exceptions.append(number)\n",
        "        print(number)\n",
        "        continue \n",
        "\n",
        "      has_commit = False \n",
        "      commits = []\n",
        "      for item in timeline:\n",
        "        if('commit_url' in item.keys() and item['commit_url']!=None):\n",
        "          has_commit = True \n",
        "          commit = requests.get(item['commit_url'], headers=headers).json()\n",
        "          if('files' in commit.keys()):\n",
        "            files = [f['filename'] for f in commit['files']]\n",
        "            commits.append([commit['node_id'], commit['commit']['message'], commit['commit']['committer']['date'], files])\n",
        "            \n",
        "      if(has_commit):\n",
        "        prs_with_commits[number]['pr_title'] = pr['title']\n",
        "        prs_with_commits[number]['pr_body'] = pr['body']\n",
        "        prs_with_commits[number]['commits'] = commits\n",
        "        prs_with_commits[number]['labels'] = labels\n",
        "        prs_with_commits[number]['linked_created_at'] = created_ats\n",
        "        prs_with_commits[number]['linked_closed_at'] = closed_ats\n",
        "        prs_with_commits[number]['linked_number'] = numbers"
      ]
    },
    {
      "cell_type": "code",
      "execution_count": null,
      "metadata": {
        "id": "T_7jkF_7Rlw3"
      },
      "outputs": [],
      "source": [
        "to_save = dict(prs_with_commits)\n",
        "with open(f'prs/prs.jsonl', 'w') as f:\n",
        "  for issue in to_save:\n",
        "    json_record = json.dumps({'issue_number': issue, **to_save[issue]})\n",
        "    f.write(json_record+'\\n')"
      ]
    }
  ],
  "metadata": {
    "colab": {
      "collapsed_sections": [
        "Y6XjjILn8F8F"
      ],
      "provenance": []
    },
    "kernelspec": {
      "display_name": "Python 3.8.10 64-bit",
      "language": "python",
      "name": "python3"
    },
    "language_info": {
      "name": "python",
      "version": "3.8.10"
    },
    "vscode": {
      "interpreter": {
        "hash": "31f2aee4e71d21fbe5cf8b01ff0e069b9275f58929596ceb00d14d90e3e16cd6"
      }
    },
    "widgets": {
      "application/vnd.jupyter.widget-state+json": {
        "20bcb4e564434e2c9a20e345c522a353": {
          "model_module": "@jupyter-widgets/controls",
          "model_module_version": "1.5.0",
          "model_name": "DescriptionStyleModel",
          "state": {
            "_model_module": "@jupyter-widgets/controls",
            "_model_module_version": "1.5.0",
            "_model_name": "DescriptionStyleModel",
            "_view_count": null,
            "_view_module": "@jupyter-widgets/base",
            "_view_module_version": "1.2.0",
            "_view_name": "StyleView",
            "description_width": ""
          }
        },
        "2475dd1ba5924fe59dfb524f09f77af0": {
          "model_module": "@jupyter-widgets/controls",
          "model_module_version": "1.5.0",
          "model_name": "HBoxModel",
          "state": {
            "_dom_classes": [],
            "_model_module": "@jupyter-widgets/controls",
            "_model_module_version": "1.5.0",
            "_model_name": "HBoxModel",
            "_view_count": null,
            "_view_module": "@jupyter-widgets/controls",
            "_view_module_version": "1.5.0",
            "_view_name": "HBoxView",
            "box_style": "",
            "children": [
              "IPY_MODEL_9e6495af03eb4d3a80f1c45e78fa903d",
              "IPY_MODEL_f17cf69a94c24b579c4f4176756f9879",
              "IPY_MODEL_5bf0d09d6b35463c96a29ed96ec4d02d"
            ],
            "layout": "IPY_MODEL_91c75161180a470b81a09c058d32a80d"
          }
        },
        "27a4170d400f4f0598d1871a149ff2f8": {
          "model_module": "@jupyter-widgets/controls",
          "model_module_version": "1.5.0",
          "model_name": "DescriptionStyleModel",
          "state": {
            "_model_module": "@jupyter-widgets/controls",
            "_model_module_version": "1.5.0",
            "_model_name": "DescriptionStyleModel",
            "_view_count": null,
            "_view_module": "@jupyter-widgets/base",
            "_view_module_version": "1.2.0",
            "_view_name": "StyleView",
            "description_width": ""
          }
        },
        "33decc37fafe4413b5a90774c9284d04": {
          "model_module": "@jupyter-widgets/controls",
          "model_module_version": "1.5.0",
          "model_name": "HTMLModel",
          "state": {
            "_dom_classes": [],
            "_model_module": "@jupyter-widgets/controls",
            "_model_module_version": "1.5.0",
            "_model_name": "HTMLModel",
            "_view_count": null,
            "_view_module": "@jupyter-widgets/controls",
            "_view_module_version": "1.5.0",
            "_view_name": "HTMLView",
            "description": "",
            "description_tooltip": null,
            "layout": "IPY_MODEL_62d2b5bbaeef40d78c1d643323897426",
            "placeholder": "​",
            "style": "IPY_MODEL_b3a865380247416ea6965bcbe651db1f",
            "value": " 70%"
          }
        },
        "5bf0d09d6b35463c96a29ed96ec4d02d": {
          "model_module": "@jupyter-widgets/controls",
          "model_module_version": "1.5.0",
          "model_name": "HTMLModel",
          "state": {
            "_dom_classes": [],
            "_model_module": "@jupyter-widgets/controls",
            "_model_module_version": "1.5.0",
            "_model_name": "HTMLModel",
            "_view_count": null,
            "_view_module": "@jupyter-widgets/controls",
            "_view_module_version": "1.5.0",
            "_view_name": "HTMLView",
            "description": "",
            "description_tooltip": null,
            "layout": "IPY_MODEL_fdd304ccda34410a8ac4185263908f86",
            "placeholder": "​",
            "style": "IPY_MODEL_da729b4d825442f4b366d54497f2e9d4",
            "value": " 1188/1188 [14:39&lt;00:00,  3.05s/it]"
          }
        },
        "62d2b5bbaeef40d78c1d643323897426": {
          "model_module": "@jupyter-widgets/base",
          "model_module_version": "1.2.0",
          "model_name": "LayoutModel",
          "state": {
            "_model_module": "@jupyter-widgets/base",
            "_model_module_version": "1.2.0",
            "_model_name": "LayoutModel",
            "_view_count": null,
            "_view_module": "@jupyter-widgets/base",
            "_view_module_version": "1.2.0",
            "_view_name": "LayoutView",
            "align_content": null,
            "align_items": null,
            "align_self": null,
            "border": null,
            "bottom": null,
            "display": null,
            "flex": null,
            "flex_flow": null,
            "grid_area": null,
            "grid_auto_columns": null,
            "grid_auto_flow": null,
            "grid_auto_rows": null,
            "grid_column": null,
            "grid_gap": null,
            "grid_row": null,
            "grid_template_areas": null,
            "grid_template_columns": null,
            "grid_template_rows": null,
            "height": null,
            "justify_content": null,
            "justify_items": null,
            "left": null,
            "margin": null,
            "max_height": null,
            "max_width": null,
            "min_height": null,
            "min_width": null,
            "object_fit": null,
            "object_position": null,
            "order": null,
            "overflow": null,
            "overflow_x": null,
            "overflow_y": null,
            "padding": null,
            "right": null,
            "top": null,
            "visibility": null,
            "width": null
          }
        },
        "68bb433d76a3470896a2345413bf6ea5": {
          "model_module": "@jupyter-widgets/base",
          "model_module_version": "1.2.0",
          "model_name": "LayoutModel",
          "state": {
            "_model_module": "@jupyter-widgets/base",
            "_model_module_version": "1.2.0",
            "_model_name": "LayoutModel",
            "_view_count": null,
            "_view_module": "@jupyter-widgets/base",
            "_view_module_version": "1.2.0",
            "_view_name": "LayoutView",
            "align_content": null,
            "align_items": null,
            "align_self": null,
            "border": null,
            "bottom": null,
            "display": null,
            "flex": null,
            "flex_flow": null,
            "grid_area": null,
            "grid_auto_columns": null,
            "grid_auto_flow": null,
            "grid_auto_rows": null,
            "grid_column": null,
            "grid_gap": null,
            "grid_row": null,
            "grid_template_areas": null,
            "grid_template_columns": null,
            "grid_template_rows": null,
            "height": null,
            "justify_content": null,
            "justify_items": null,
            "left": null,
            "margin": null,
            "max_height": null,
            "max_width": null,
            "min_height": null,
            "min_width": null,
            "object_fit": null,
            "object_position": null,
            "order": null,
            "overflow": null,
            "overflow_x": null,
            "overflow_y": null,
            "padding": null,
            "right": null,
            "top": null,
            "visibility": null,
            "width": null
          }
        },
        "6e20dbbf660f43588af9174793193ebe": {
          "model_module": "@jupyter-widgets/base",
          "model_module_version": "1.2.0",
          "model_name": "LayoutModel",
          "state": {
            "_model_module": "@jupyter-widgets/base",
            "_model_module_version": "1.2.0",
            "_model_name": "LayoutModel",
            "_view_count": null,
            "_view_module": "@jupyter-widgets/base",
            "_view_module_version": "1.2.0",
            "_view_name": "LayoutView",
            "align_content": null,
            "align_items": null,
            "align_self": null,
            "border": null,
            "bottom": null,
            "display": null,
            "flex": null,
            "flex_flow": null,
            "grid_area": null,
            "grid_auto_columns": null,
            "grid_auto_flow": null,
            "grid_auto_rows": null,
            "grid_column": null,
            "grid_gap": null,
            "grid_row": null,
            "grid_template_areas": null,
            "grid_template_columns": null,
            "grid_template_rows": null,
            "height": null,
            "justify_content": null,
            "justify_items": null,
            "left": null,
            "margin": null,
            "max_height": null,
            "max_width": null,
            "min_height": null,
            "min_width": null,
            "object_fit": null,
            "object_position": null,
            "order": null,
            "overflow": null,
            "overflow_x": null,
            "overflow_y": null,
            "padding": null,
            "right": null,
            "top": null,
            "visibility": null,
            "width": null
          }
        },
        "7f51ed3c98b445f682afa29ba99bcc56": {
          "model_module": "@jupyter-widgets/controls",
          "model_module_version": "1.5.0",
          "model_name": "ProgressStyleModel",
          "state": {
            "_model_module": "@jupyter-widgets/controls",
            "_model_module_version": "1.5.0",
            "_model_name": "ProgressStyleModel",
            "_view_count": null,
            "_view_module": "@jupyter-widgets/base",
            "_view_module_version": "1.2.0",
            "_view_name": "StyleView",
            "bar_color": null,
            "description_width": ""
          }
        },
        "85712513646c43c1bea11875f27e3a85": {
          "model_module": "@jupyter-widgets/controls",
          "model_module_version": "1.5.0",
          "model_name": "HTMLModel",
          "state": {
            "_dom_classes": [],
            "_model_module": "@jupyter-widgets/controls",
            "_model_module_version": "1.5.0",
            "_model_name": "HTMLModel",
            "_view_count": null,
            "_view_module": "@jupyter-widgets/controls",
            "_view_module_version": "1.5.0",
            "_view_name": "HTMLView",
            "description": "",
            "description_tooltip": null,
            "layout": "IPY_MODEL_f8f97c4cd4ae41dfab25ee82a7dc4f05",
            "placeholder": "​",
            "style": "IPY_MODEL_20bcb4e564434e2c9a20e345c522a353",
            "value": " 10030/14233 [18:50&lt;12:12,  5.74it/s]"
          }
        },
        "91c75161180a470b81a09c058d32a80d": {
          "model_module": "@jupyter-widgets/base",
          "model_module_version": "1.2.0",
          "model_name": "LayoutModel",
          "state": {
            "_model_module": "@jupyter-widgets/base",
            "_model_module_version": "1.2.0",
            "_model_name": "LayoutModel",
            "_view_count": null,
            "_view_module": "@jupyter-widgets/base",
            "_view_module_version": "1.2.0",
            "_view_name": "LayoutView",
            "align_content": null,
            "align_items": null,
            "align_self": null,
            "border": null,
            "bottom": null,
            "display": null,
            "flex": null,
            "flex_flow": null,
            "grid_area": null,
            "grid_auto_columns": null,
            "grid_auto_flow": null,
            "grid_auto_rows": null,
            "grid_column": null,
            "grid_gap": null,
            "grid_row": null,
            "grid_template_areas": null,
            "grid_template_columns": null,
            "grid_template_rows": null,
            "height": null,
            "justify_content": null,
            "justify_items": null,
            "left": null,
            "margin": null,
            "max_height": null,
            "max_width": null,
            "min_height": null,
            "min_width": null,
            "object_fit": null,
            "object_position": null,
            "order": null,
            "overflow": null,
            "overflow_x": null,
            "overflow_y": null,
            "padding": null,
            "right": null,
            "top": null,
            "visibility": null,
            "width": null
          }
        },
        "9684be3d56d946a090b017da953a975a": {
          "model_module": "@jupyter-widgets/controls",
          "model_module_version": "1.5.0",
          "model_name": "HBoxModel",
          "state": {
            "_dom_classes": [],
            "_model_module": "@jupyter-widgets/controls",
            "_model_module_version": "1.5.0",
            "_model_name": "HBoxModel",
            "_view_count": null,
            "_view_module": "@jupyter-widgets/controls",
            "_view_module_version": "1.5.0",
            "_view_name": "HBoxView",
            "box_style": "",
            "children": [
              "IPY_MODEL_33decc37fafe4413b5a90774c9284d04",
              "IPY_MODEL_e321e512cdaf4cb89d6c6390daed0d43",
              "IPY_MODEL_85712513646c43c1bea11875f27e3a85"
            ],
            "layout": "IPY_MODEL_68bb433d76a3470896a2345413bf6ea5"
          }
        },
        "976d2d90ac0146a89549a5fc7490722c": {
          "model_module": "@jupyter-widgets/base",
          "model_module_version": "1.2.0",
          "model_name": "LayoutModel",
          "state": {
            "_model_module": "@jupyter-widgets/base",
            "_model_module_version": "1.2.0",
            "_model_name": "LayoutModel",
            "_view_count": null,
            "_view_module": "@jupyter-widgets/base",
            "_view_module_version": "1.2.0",
            "_view_name": "LayoutView",
            "align_content": null,
            "align_items": null,
            "align_self": null,
            "border": null,
            "bottom": null,
            "display": null,
            "flex": null,
            "flex_flow": null,
            "grid_area": null,
            "grid_auto_columns": null,
            "grid_auto_flow": null,
            "grid_auto_rows": null,
            "grid_column": null,
            "grid_gap": null,
            "grid_row": null,
            "grid_template_areas": null,
            "grid_template_columns": null,
            "grid_template_rows": null,
            "height": null,
            "justify_content": null,
            "justify_items": null,
            "left": null,
            "margin": null,
            "max_height": null,
            "max_width": null,
            "min_height": null,
            "min_width": null,
            "object_fit": null,
            "object_position": null,
            "order": null,
            "overflow": null,
            "overflow_x": null,
            "overflow_y": null,
            "padding": null,
            "right": null,
            "top": null,
            "visibility": null,
            "width": null
          }
        },
        "9e6495af03eb4d3a80f1c45e78fa903d": {
          "model_module": "@jupyter-widgets/controls",
          "model_module_version": "1.5.0",
          "model_name": "HTMLModel",
          "state": {
            "_dom_classes": [],
            "_model_module": "@jupyter-widgets/controls",
            "_model_module_version": "1.5.0",
            "_model_name": "HTMLModel",
            "_view_count": null,
            "_view_module": "@jupyter-widgets/controls",
            "_view_module_version": "1.5.0",
            "_view_name": "HTMLView",
            "description": "",
            "description_tooltip": null,
            "layout": "IPY_MODEL_b63b2fc346d84017aaf6ac9f65695383",
            "placeholder": "​",
            "style": "IPY_MODEL_27a4170d400f4f0598d1871a149ff2f8",
            "value": "100%"
          }
        },
        "b3a865380247416ea6965bcbe651db1f": {
          "model_module": "@jupyter-widgets/controls",
          "model_module_version": "1.5.0",
          "model_name": "DescriptionStyleModel",
          "state": {
            "_model_module": "@jupyter-widgets/controls",
            "_model_module_version": "1.5.0",
            "_model_name": "DescriptionStyleModel",
            "_view_count": null,
            "_view_module": "@jupyter-widgets/base",
            "_view_module_version": "1.2.0",
            "_view_name": "StyleView",
            "description_width": ""
          }
        },
        "b63b2fc346d84017aaf6ac9f65695383": {
          "model_module": "@jupyter-widgets/base",
          "model_module_version": "1.2.0",
          "model_name": "LayoutModel",
          "state": {
            "_model_module": "@jupyter-widgets/base",
            "_model_module_version": "1.2.0",
            "_model_name": "LayoutModel",
            "_view_count": null,
            "_view_module": "@jupyter-widgets/base",
            "_view_module_version": "1.2.0",
            "_view_name": "LayoutView",
            "align_content": null,
            "align_items": null,
            "align_self": null,
            "border": null,
            "bottom": null,
            "display": null,
            "flex": null,
            "flex_flow": null,
            "grid_area": null,
            "grid_auto_columns": null,
            "grid_auto_flow": null,
            "grid_auto_rows": null,
            "grid_column": null,
            "grid_gap": null,
            "grid_row": null,
            "grid_template_areas": null,
            "grid_template_columns": null,
            "grid_template_rows": null,
            "height": null,
            "justify_content": null,
            "justify_items": null,
            "left": null,
            "margin": null,
            "max_height": null,
            "max_width": null,
            "min_height": null,
            "min_width": null,
            "object_fit": null,
            "object_position": null,
            "order": null,
            "overflow": null,
            "overflow_x": null,
            "overflow_y": null,
            "padding": null,
            "right": null,
            "top": null,
            "visibility": null,
            "width": null
          }
        },
        "da729b4d825442f4b366d54497f2e9d4": {
          "model_module": "@jupyter-widgets/controls",
          "model_module_version": "1.5.0",
          "model_name": "DescriptionStyleModel",
          "state": {
            "_model_module": "@jupyter-widgets/controls",
            "_model_module_version": "1.5.0",
            "_model_name": "DescriptionStyleModel",
            "_view_count": null,
            "_view_module": "@jupyter-widgets/base",
            "_view_module_version": "1.2.0",
            "_view_name": "StyleView",
            "description_width": ""
          }
        },
        "dea01884944c4d42b1d502772fb24923": {
          "model_module": "@jupyter-widgets/controls",
          "model_module_version": "1.5.0",
          "model_name": "ProgressStyleModel",
          "state": {
            "_model_module": "@jupyter-widgets/controls",
            "_model_module_version": "1.5.0",
            "_model_name": "ProgressStyleModel",
            "_view_count": null,
            "_view_module": "@jupyter-widgets/base",
            "_view_module_version": "1.2.0",
            "_view_name": "StyleView",
            "bar_color": null,
            "description_width": ""
          }
        },
        "e321e512cdaf4cb89d6c6390daed0d43": {
          "model_module": "@jupyter-widgets/controls",
          "model_module_version": "1.5.0",
          "model_name": "FloatProgressModel",
          "state": {
            "_dom_classes": [],
            "_model_module": "@jupyter-widgets/controls",
            "_model_module_version": "1.5.0",
            "_model_name": "FloatProgressModel",
            "_view_count": null,
            "_view_module": "@jupyter-widgets/controls",
            "_view_module_version": "1.5.0",
            "_view_name": "ProgressView",
            "bar_style": "",
            "description": "",
            "description_tooltip": null,
            "layout": "IPY_MODEL_976d2d90ac0146a89549a5fc7490722c",
            "max": 14233,
            "min": 0,
            "orientation": "horizontal",
            "style": "IPY_MODEL_7f51ed3c98b445f682afa29ba99bcc56",
            "value": 10030
          }
        },
        "f17cf69a94c24b579c4f4176756f9879": {
          "model_module": "@jupyter-widgets/controls",
          "model_module_version": "1.5.0",
          "model_name": "FloatProgressModel",
          "state": {
            "_dom_classes": [],
            "_model_module": "@jupyter-widgets/controls",
            "_model_module_version": "1.5.0",
            "_model_name": "FloatProgressModel",
            "_view_count": null,
            "_view_module": "@jupyter-widgets/controls",
            "_view_module_version": "1.5.0",
            "_view_name": "ProgressView",
            "bar_style": "",
            "description": "",
            "description_tooltip": null,
            "layout": "IPY_MODEL_6e20dbbf660f43588af9174793193ebe",
            "max": 1188,
            "min": 0,
            "orientation": "horizontal",
            "style": "IPY_MODEL_dea01884944c4d42b1d502772fb24923",
            "value": 1188
          }
        },
        "f8f97c4cd4ae41dfab25ee82a7dc4f05": {
          "model_module": "@jupyter-widgets/base",
          "model_module_version": "1.2.0",
          "model_name": "LayoutModel",
          "state": {
            "_model_module": "@jupyter-widgets/base",
            "_model_module_version": "1.2.0",
            "_model_name": "LayoutModel",
            "_view_count": null,
            "_view_module": "@jupyter-widgets/base",
            "_view_module_version": "1.2.0",
            "_view_name": "LayoutView",
            "align_content": null,
            "align_items": null,
            "align_self": null,
            "border": null,
            "bottom": null,
            "display": null,
            "flex": null,
            "flex_flow": null,
            "grid_area": null,
            "grid_auto_columns": null,
            "grid_auto_flow": null,
            "grid_auto_rows": null,
            "grid_column": null,
            "grid_gap": null,
            "grid_row": null,
            "grid_template_areas": null,
            "grid_template_columns": null,
            "grid_template_rows": null,
            "height": null,
            "justify_content": null,
            "justify_items": null,
            "left": null,
            "margin": null,
            "max_height": null,
            "max_width": null,
            "min_height": null,
            "min_width": null,
            "object_fit": null,
            "object_position": null,
            "order": null,
            "overflow": null,
            "overflow_x": null,
            "overflow_y": null,
            "padding": null,
            "right": null,
            "top": null,
            "visibility": null,
            "width": null
          }
        },
        "fdd304ccda34410a8ac4185263908f86": {
          "model_module": "@jupyter-widgets/base",
          "model_module_version": "1.2.0",
          "model_name": "LayoutModel",
          "state": {
            "_model_module": "@jupyter-widgets/base",
            "_model_module_version": "1.2.0",
            "_model_name": "LayoutModel",
            "_view_count": null,
            "_view_module": "@jupyter-widgets/base",
            "_view_module_version": "1.2.0",
            "_view_name": "LayoutView",
            "align_content": null,
            "align_items": null,
            "align_self": null,
            "border": null,
            "bottom": null,
            "display": null,
            "flex": null,
            "flex_flow": null,
            "grid_area": null,
            "grid_auto_columns": null,
            "grid_auto_flow": null,
            "grid_auto_rows": null,
            "grid_column": null,
            "grid_gap": null,
            "grid_row": null,
            "grid_template_areas": null,
            "grid_template_columns": null,
            "grid_template_rows": null,
            "height": null,
            "justify_content": null,
            "justify_items": null,
            "left": null,
            "margin": null,
            "max_height": null,
            "max_width": null,
            "min_height": null,
            "min_width": null,
            "object_fit": null,
            "object_position": null,
            "order": null,
            "overflow": null,
            "overflow_x": null,
            "overflow_y": null,
            "padding": null,
            "right": null,
            "top": null,
            "visibility": null,
            "width": null
          }
        }
      }
    }
  },
  "nbformat": 4,
  "nbformat_minor": 0
}
